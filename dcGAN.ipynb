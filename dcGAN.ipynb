{
 "cells": [
  {
   "cell_type": "code",
   "execution_count": null,
   "metadata": {},
   "outputs": [],
   "source": [
    "import numpy as np \n",
    "from keras.datasets import mnist \n",
    "from keras.layers import (Activation, \n",
    "                         BatchNormalization,\n",
    "                         Dense, Flatten, Dropout, Reshape)\n",
    "from keras.layers.advanced_activations import LeakyReLU \n",
    "from keras.layers.convolutional import Conv2D, Conv2DTranspose\n",
    "from keras.models import Sequential \n",
    "from keras.optimizers import Adam "
   ]
  },
  {
   "cell_type": "code",
   "execution_count": null,
   "metadata": {},
   "outputs": [],
   "source": [
    "#Input Dimensions \n",
    "imgRows = 28\n",
    "imgCols = 28\n",
    "channels = 1\n",
    "imgShape = (imgRows,imgCols,channels)\n",
    "zDim = 100 #Input noise vector "
   ]
  },
  {
   "cell_type": "code",
   "execution_count": null,
   "metadata": {},
   "outputs": [],
   "source": [
    "def buildGenerator(zDim):\n",
    "    model = Sequential()\n",
    "    model.add(Dense(256*7*7,input_dim = zDim))\n",
    "    model.add(Reshape(7,7,256))\n",
    "    model.add(Conv2DTranspose(128,kernel_size = 3,strides = 2,padding = 'same'))\n",
    "    model.add(BatchNormalization())\n",
    "    model.add(LeakyReLU(alpha = 0.01))\n",
    "    model.add(Conv2DTranspose(64,kernel_size = 3,strides = 1,padding = 'same'))\n",
    "    model.add(BatchNormalization())\n",
    "    model.add(LeakyReLU(alpha = 0.01))\n",
    "    model.add(Conv2DTranspose(1,kernel_size = 3,strides = 2,padding = 'same'))\n",
    "    model.add(Activation('tanh'))\n",
    "    return model "
   ]
  },
  {
   "cell_type": "code",
   "execution_count": null,
   "metadata": {},
   "outputs": [],
   "source": [
    "def buildDiscriminator(imgShape):\n",
    "    model = Sequential()\n",
    "    model.add(Conv2D(32,kernel_size = 3,strides = 2,input_shape = imgShape,padding = 'same'))\n",
    "    model.add(LeakyReLU(alpha = 0.01))\n",
    "    model.add(Conv2D(64,kernel_size = 3,strides = 2,input_shape = imgShape,padding = 'same'))\n",
    "    model.add(BatchNormalization())\n",
    "    model.add(LeakyReLU(alpha = 0.01))\n",
    "    model.add(Conv2D(128,kernel_size = 3,strides = 2,input_shape = imgShape,padding = 'same'))\n",
    "    model.add(BatchNormalization())\n",
    "    model.add(LeakyReLU(alpah = 0.01))\n",
    "    model.add(Flatten())\n",
    "    model.add(Dense(1,activation = 'sigmoid'))\n",
    "    return model "
   ]
  },
  {
   "cell_type": "code",
   "execution_count": 1,
   "metadata": {},
   "outputs": [
    {
     "ename": "SyntaxError",
     "evalue": "unexpected EOF while parsing (<ipython-input-1-87580fa2b74e>, line 1)",
     "output_type": "error",
     "traceback": [
      "\u001b[0;36m  File \u001b[0;32m\"<ipython-input-1-87580fa2b74e>\"\u001b[0;36m, line \u001b[0;32m1\u001b[0m\n\u001b[0;31m    def buildDCGAN(G,D):\u001b[0m\n\u001b[0m                        ^\u001b[0m\n\u001b[0;31mSyntaxError\u001b[0m\u001b[0;31m:\u001b[0m unexpected EOF while parsing\n"
     ]
    }
   ],
   "source": [
    "def buildDCGAN(G,D):\n",
    "    model = Sequential()\n",
    "    model.add(G)\n",
    "    model.add(D)\n",
    "    return model"
   ]
  },
  {
   "cell_type": "code",
   "execution_count": null,
   "metadata": {},
   "outputs": [],
   "source": [
    "discriminator = buildDiscriminator(imgShape)\n",
    "discriminator.compile(loss = 'binary_crossentropy',optimizer = Adam(),metrics = ['accuracy'])\n",
    "generator = buildGenerator(zDim)\n",
    "discriminator.trainable = False\n",
    "DCGAN = buildDCGAN(generator,discriminator)\n",
    "DCGAN.compile(loss = 'binary_crossentropy',optimizer = Adam())"
   ]
  },
  {
   "cell_type": "code",
   "execution_count": null,
   "metadata": {},
   "outputs": [],
   "source": [
    "def sampleImages(G,imgGridRows = 4,imgGridCols = 4):\n",
    "    z = np.random.normal(0,1,imgGridRows*imgGridCols*zDim)\n",
    "    genImgs = G.predict(z)\n",
    "    genImgs = 0.5*genImgs + 0.5\n",
    "    fig,ax = plt.subplots(imgGridRows,imgGridCols,figsize = (4,4),sharey = True,sharex = True)\n",
    "    cnt = 0\n",
    "    for i in range(imgGridRows):\n",
    "        for j in range(imgGridCols):\n",
    "            axs[i,j].imshow(genImgs[cnt,:,:,0],cmap = 'gray')\n",
    "            axs[i,j].axis('off')\n",
    "            cnt += 1"
   ]
  },
  {
   "cell_type": "code",
   "execution_count": null,
   "metadata": {},
   "outputs": [],
   "source": [
    "#The GAN training loop \n",
    "losses = []; accuracies = []\n",
    "iterationCheckpoints = []\n",
    "def train(iterations,batchSize,sampleInterval):\n",
    "    (x_train,_),(_,_) = mnist.load_data()\n",
    "    x_train = x_train/127.0 - 1.0 \n",
    "    x_train = np.expand_dims(x_train,axis = 3)\n",
    "    real = np.ones((batchSize,1))\n",
    "    fake = np.zeros((batchSize,1))\n",
    "    for iteration in range(iterations):\n",
    "        idx = np.random.randint(0,x_train.shape[0],batchSize)\n",
    "        imgs = x_train[idx]\n",
    "        z = np.random.normal(0,1,(batchSize,100))\n",
    "        genImgs = generator.predict(z)\n",
    "        dLossReal = discriminator.train_on_batch(imgs,real)\n",
    "        dLossFake = discriminator.train_on_batch(genImgs,fake)\n",
    "        dLoss,accuracy = 0.5*np.add(dLossReal,dLossFake)\n",
    "        z = np.random.normal(0,1,(batchSize,100))\n",
    "        genImgs = generator.predict(z)\n",
    "        gLoss = DCGAN.train_on_batch(z,real)\n",
    "        if(iteration+1)%sampleInterval == 0:\n",
    "            losses.append((dLoss,gLoss))\n",
    "            accuracies.append(100.0*accuracy)\n",
    "            iterationCheckpoints.append(iteration+1)\n",
    "            sampleImages(generator)\n",
    "            \n",
    "            \n",
    "        "
   ]
  }
 ],
 "metadata": {
  "kernelspec": {
   "display_name": "Python 3",
   "language": "python",
   "name": "python3"
  },
  "language_info": {
   "codemirror_mode": {
    "name": "ipython",
    "version": 3
   },
   "file_extension": ".py",
   "mimetype": "text/x-python",
   "name": "python",
   "nbconvert_exporter": "python",
   "pygments_lexer": "ipython3",
   "version": "3.7.6"
  }
 },
 "nbformat": 4,
 "nbformat_minor": 4
}
