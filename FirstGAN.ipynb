{
 "cells": [
  {
   "cell_type": "code",
   "execution_count": 1,
   "metadata": {},
   "outputs": [
    {
     "name": "stderr",
     "output_type": "stream",
     "text": [
      "Using TensorFlow backend.\n"
     ]
    }
   ],
   "source": [
    "import numpy as np \n",
    "from keras.datasets import mnist \n",
    "from keras.layers import Dense,Flatten,Reshape \n",
    "from keras.layers.advanced_activations import LeakyReLU\n",
    "from keras.models import Sequential \n",
    "from keras.optimizers import Adam \n",
    "import matplotlib.pyplot as plt \n"
   ]
  },
  {
   "cell_type": "code",
   "execution_count": 3,
   "metadata": {},
   "outputs": [],
   "source": [
    "#Input image dimensions \n",
    "imgRows = 28; imgCols = 28; imgChannels= 1\n",
    "imgShape = (imgRows,imgCols,imgChannels)\n",
    "#The input to the generator is the noise vector\n",
    "zDim = 100"
   ]
  },
  {
   "cell_type": "code",
   "execution_count": 15,
   "metadata": {},
   "outputs": [],
   "source": [
    "#Build the generator\n",
    "def buildGenerator(imgShape,zDim):\n",
    "    model = Sequential()\n",
    "    model.add(Dense(128,input_dim = zDim))\n",
    "    model.add(LeakyReLU(alpha = 0.01))\n",
    "    #Output layer with image dimensions\n",
    "    model.add(Dense(28*28*1,activation = 'tanh'))\n",
    "    #Reshape according to the image dimensions\n",
    "    model.add(Reshape(imgShape))\n",
    "    return model "
   ]
  },
  {
   "cell_type": "code",
   "execution_count": 16,
   "metadata": {},
   "outputs": [],
   "source": [
    "def buildDiscriminator(imgShape):\n",
    "    model = Sequential()\n",
    "    #Flatten the image \n",
    "    model.add(Flatten(input_shape = imgShape))\n",
    "    #FC layer \n",
    "    model.add(Dense(128))\n",
    "    #Leaky Relu activation \n",
    "    model.add(LeakyReLU(alpha = 0.01))\n",
    "    #Output with Sigmoid activation \n",
    "    model.add(Dense(1,activation = 'sigmoid'))\n",
    "    return model "
   ]
  },
  {
   "cell_type": "code",
   "execution_count": 17,
   "metadata": {},
   "outputs": [],
   "source": [
    "#Build the GAN model \n",
    "def buildGAN(generator,discriminator):\n",
    "    model = Sequential()\n",
    "    model.add(generator)\n",
    "    model.add(discriminator)\n",
    "    return model"
   ]
  },
  {
   "cell_type": "code",
   "execution_count": null,
   "metadata": {},
   "outputs": [],
   "source": []
  },
  {
   "cell_type": "code",
   "execution_count": 18,
   "metadata": {},
   "outputs": [],
   "source": [
    "discriminator = buildDiscriminator(imgShape)\n",
    "discriminator.compile(loss = 'binary_crossentropy',optimizer = Adam(),metrics = ['accuracy'])\n",
    "#Build the generator \n",
    "generator = buildGenerator(imgShape,zDim)\n",
    "\n",
    "#Keep Discriminator's parameters for Generator's training \n",
    "discriminator.trainable = False \n",
    "\n",
    "#Build the GAN \n",
    "GAN = buildGAN(generator,discriminator)\n",
    "GAN.compile(loss = 'binary_crossentropy',optimizer = Adam())\n"
   ]
  },
  {
   "cell_type": "code",
   "execution_count": 23,
   "metadata": {},
   "outputs": [],
   "source": [
    "def sample_images(generator,image_grid_rows = 4,image_grid_cols = 4):\n",
    "    # Sample random noise\n",
    "    z = np.random.normal(0, 1, (image_grid_rows * image_grid_cols, zDim))\n",
    "\n",
    "    # Generate images from random noise\n",
    "    genImgs = generator.predict(z)\n",
    "\n",
    "    # Rescale image pixel values to [0, 1]\n",
    "    genImgs = 0.5 * genImgs + 0.5\n",
    "\n",
    "    # Set image grid\n",
    "    fig, axs = plt.subplots(image_grid_rows,\n",
    "                            image_grid_cols,\n",
    "                            figsize=(4, 4),\n",
    "                            sharey=True,\n",
    "                            sharex=True)\n",
    "\n",
    "    cnt = 0\n",
    "    for i in range(image_grid_rows):\n",
    "        for j in range(image_grid_cols):\n",
    "            # Output a grid of images\n",
    "            axs[i, j].imshow(genImgs[cnt, :, :, 0], cmap='gray')\n",
    "            axs[i, j].axis('off')\n",
    "            cnt += 1"
   ]
  },
  {
   "cell_type": "code",
   "execution_count": null,
   "metadata": {},
   "outputs": [],
   "source": [
    "#Training \n",
    "losses = []\n",
    "accuracies = []\n",
    "iterationCheckpoints = []\n",
    "def train(iterations,batch_size,sample_interval):\n",
    "    (x_train,_),(_,_) = mnist.load_data()\n",
    "    x_train = x_train/127.0 - 1.0\n",
    "    x_train = np.expand_dims(x_train,axis = 3)\n",
    "    \n",
    "    #Label all real images as 1 and all fakes ones as zero \n",
    "    real = np.ones((batch_size,1))\n",
    "    fake = np.zeros((batch_size,1))\n",
    "    \n",
    "    for iteration in range(iterations):\n",
    "        #Train the discriminator \n",
    "        #Random batch of real images\n",
    "        idx = np.random.randint(0, x_train.shape[0], batch_size)\n",
    "        imgs = x_train[idx]\n",
    "        \n",
    "        #Generate a batch of fake images \n",
    "        z = np.random.normal(0, 1, (batch_size, 100))\n",
    "        gen_imgs = generator.predict(z)\n",
    "        \n",
    "        #Actual training\n",
    "        d_loss_real = discriminator.train_on_batch(imgs, real)\n",
    "        d_loss_fake = discriminator.train_on_batch(gen_imgs, fake)\n",
    "        d_loss, accuracy = 0.5 * np.add(d_loss_real, d_loss_fake)\n",
    "        \n",
    "        #Train the generator \n",
    "        #Generate fake images \n",
    "        z = np.random.normal(0, 1, (batch_size, 100))\n",
    "        gen_imgs = generator.predict(z)\n",
    "        \n",
    "        #Actual training \n",
    "        g_loss = GAN.train_on_batch(z, real)\n",
    "        \n",
    "        if((iteration+1) % sample_interval) == 0:\n",
    "            #Save the losses and accuracies \n",
    "            losses.append((d_loss,g_loss))\n",
    "            accuracies.append(100.0*accuracy)\n",
    "            iterationCheckpoints.append(iteration+1)\n",
    "            \n",
    "            #Output a sample of the generated image \n",
    "            sample_images(generator)\n",
    "        \n",
    "    "
   ]
  },
  {
   "cell_type": "code",
   "execution_count": null,
   "metadata": {},
   "outputs": [],
   "source": [
    "#Train the GAN and inspect the output \n",
    "#Hyperparameters \n",
    "iterations = 20000\n",
    "batch_size = 128\n",
    "sample_interval = 1000\n",
    "\n",
    "#train the GAN \n",
    "train(iterations, batch_size, sample_interval)\n"
   ]
  },
  {
   "cell_type": "code",
   "execution_count": null,
   "metadata": {},
   "outputs": [],
   "source": [
    "# Plot training losses for Discriminator and Generator\n",
    "plt.figure(figsize=(15, 5))\n",
    "plt.plot(iterationCheckpoints, losses.T[0], label=\"Discriminator loss\")\n",
    "plt.plot(iterationCheckpoints, losses.T[1], label=\"Generator loss\")\n",
    "\n",
    "plt.xticks(iterationCheckpoints, rotation=90)\n",
    "\n",
    "plt.title(\"Training Loss\")\n",
    "plt.xlabel(\"Iteration\")\n",
    "plt.ylabel(\"Loss\")\n",
    "plt.legend()\n",
    "plt.show()"
   ]
  },
  {
   "cell_type": "code",
   "execution_count": null,
   "metadata": {},
   "outputs": [],
   "source": [
    "accuracies = np.array(accuracies)\n",
    "\n",
    "# Plot Discriminator accuracy\n",
    "plt.figure(figsize=(15, 5))\n",
    "plt.plot(iterationCheckpoints, accuracies, label=\"Discriminator accuracy\")\n",
    "\n",
    "plt.xticks(iterationCheckpoints, rotation=90)\n",
    "plt.yticks(range(0, 100, 5))\n",
    "\n",
    "plt.title(\"Discriminator Accuracy\")\n",
    "plt.xlabel(\"Iteration\")\n",
    "plt.ylabel(\"Accuracy (%)\")\n",
    "plt.legend()\n",
    "plt.show()"
   ]
  },
  {
   "cell_type": "code",
   "execution_count": null,
   "metadata": {},
   "outputs": [],
   "source": []
  },
  {
   "cell_type": "code",
   "execution_count": null,
   "metadata": {},
   "outputs": [],
   "source": []
  }
 ],
 "metadata": {
  "kernelspec": {
   "display_name": "Python 3",
   "language": "python",
   "name": "python3"
  },
  "language_info": {
   "codemirror_mode": {
    "name": "ipython",
    "version": 3
   },
   "file_extension": ".py",
   "mimetype": "text/x-python",
   "name": "python",
   "nbconvert_exporter": "python",
   "pygments_lexer": "ipython3",
   "version": "3.7.6"
  }
 },
 "nbformat": 4,
 "nbformat_minor": 4
}
