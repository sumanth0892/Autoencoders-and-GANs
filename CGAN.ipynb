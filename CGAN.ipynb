{
 "cells": [
  {
   "cell_type": "code",
   "execution_count": 20,
   "metadata": {},
   "outputs": [],
   "source": [
    "import numpy as np \n",
    "import matplotlib.pyplot as plt \n",
    "from keras.datasets import mnist \n",
    "from keras.layers import (Activation,BatchNormalization,Dense,Concatenate,Embedding,Flatten,Input,Multiply,Reshape)\n",
    "from keras.layers.advanced_activations import LeakyReLU\n",
    "from keras.layers.convolutional import Conv2D,Conv2DTranspose\n",
    "from keras.models import Model,Sequential \n",
    "from keras.optimizers import Adam"
   ]
  },
  {
   "cell_type": "code",
   "execution_count": 21,
   "metadata": {},
   "outputs": [],
   "source": [
    "#Model parameters \n",
    "imgRows = 28\n",
    "imgCols = 28\n",
    "channels = 1\n",
    "zDim = 100\n",
    "nClasses = 10\n",
    "imgShape = (imgRows,imgCols,channels)"
   ]
  },
  {
   "cell_type": "code",
   "execution_count": 22,
   "metadata": {},
   "outputs": [],
   "source": [
    "def coreGen(zDim):\n",
    "    #Core generator \n",
    "    model = Sequential()\n",
    "    model.add(Dense(7*7*256,input_dim = zDim))\n",
    "    model.add(Reshape((7,7,256)))\n",
    "    model.add(Conv2DTranspose(128,kernel_size = 3, strides = 2,padding = 'same'))\n",
    "    model.add(BatchNormalization())\n",
    "    model.add(LeakyReLU(alpha = 0.01))\n",
    "    model.add(Conv2DTranspose(64,kernel_size = 3,strides = 1,padding = 'same'))\n",
    "    model.add(BatchNormalization())\n",
    "    model.add(LeakyReLU(alpha = 0.01))\n",
    "    model.add(Conv2DTranspose(1,kernel_size = 3,strides = 2,padding = 'same'))\n",
    "    model.add(Activation('tanh'))\n",
    "    return model "
   ]
  },
  {
   "cell_type": "code",
   "execution_count": 23,
   "metadata": {},
   "outputs": [],
   "source": [
    "def cGEN(zDim):\n",
    "    #CGAN Addition to the core generator \n",
    "    z = Input(shape = (zDim,))\n",
    "    label = Input(shape = (1,),dtype = 'int32')\n",
    "    label_embedding = Embedding(nClasses,zDim,input_length = 1)(label)\n",
    "    label_embedding = Flatten()(label_embedding)\n",
    "    joined_representation = Multiply()([z,label_embedding])\n",
    "    G = coreGen(zDim)\n",
    "    conditioned_img = G(joined_representation)\n",
    "    return Model([z,label],conditioned_img)"
   ]
  },
  {
   "cell_type": "code",
   "execution_count": 24,
   "metadata": {},
   "outputs": [],
   "source": [
    "def coreDis(imgShape):\n",
    "    model = Sequential()\n",
    "    model.add(Conv2D(64,kernel_size = 3,strides = 2,input_shape = (imgShape[0],imgShape[1],imgShape[2]+1),padding = 'same'))\n",
    "    model.add(LeakyReLU(alpha = 0.01))\n",
    "    model.add(Conv2D(64,kernel_size = 3,strides = 2,input_shape = imgShape,padding = 'same'))\n",
    "    model.add(BatchNormalization())\n",
    "    model.add(LeakyReLU(alpha = 0.01))\n",
    "    model.add(Conv2D(128,kernel_size = 3,strides = 2,input_shape = imgShape,padding = 'same'))\n",
    "    model.add(BatchNormalization())\n",
    "    model.add(LeakyReLU(alpha = 0.01))\n",
    "    model.add(Flatten())\n",
    "    model.add(Dense(1,activation = 'sigmoid'))\n",
    "    return model "
   ]
  },
  {
   "cell_type": "code",
   "execution_count": 25,
   "metadata": {},
   "outputs": [],
   "source": [
    "def cDis(imgShape):\n",
    "    img = Input(shape = imgShape)\n",
    "    label = Input(shape = (1,),dtype = 'int32')\n",
    "    label_embedding = Embedding(nClasses,np.prod(imgShape),input_length = 1)(label)\n",
    "    label_embedding = Reshape(imgShape)(label_embedding)\n",
    "    concatenated = Concatenate(axis = -1)([img,label_embedding])\n",
    "    discriminator = coreDis(imgShape)\n",
    "    classification = discriminator(concatenated)\n",
    "    return Model ([img,label],classification)"
   ]
  },
  {
   "cell_type": "code",
   "execution_count": 26,
   "metadata": {},
   "outputs": [],
   "source": [
    "def buildCGAN(G,D):\n",
    "    #Build the CGAN \n",
    "    z = Input(shape = (zDim,))\n",
    "    label = Input(shape = (1,))\n",
    "    img = G([z,label])\n",
    "    classification = D([img,label])\n",
    "    model = Model([z,label],classification)\n",
    "    return model \n",
    "discriminator = cDis(imgShape)\n",
    "discriminator.compile(loss = 'binary_crossentropy',optimizer = Adam(),metrics = ['accuracy'])\n",
    "discriminator.trainable = False\n",
    "generator = cGEN(zDim)\n",
    "cgan = buildCGAN(generator,discriminator)\n",
    "cgan.compile(loss = 'binary_crossentropy',optimizer = Adam())\n",
    "\n",
    "    "
   ]
  },
  {
   "cell_type": "code",
   "execution_count": 27,
   "metadata": {},
   "outputs": [],
   "source": [
    "def sample_images(image_grid_rows = 2,image_grid_columns = 5):\n",
    "    z = np.random.normal(0,1,(image_grid_rows,image_grid_columns,zDim))\n",
    "    labels = np.arange(0,10).reshape(-1,1)\n",
    "    genImgs = generator.predict([z,labels])\n",
    "    genImgs = 0.5*genImgs + 0.5\n",
    "    fig,axs = plt.subplots(image_grid_rows,image_grid_columns,figsize = (10,4),sharex = True,sharey = True)\n",
    "    cnt = 0\n",
    "    for i in range(image_grid_rows):\n",
    "        for j in range(image_grid_columns):\n",
    "            axs[i,j].imshow(genImgs[cnt,:,:,0],cmap = 'gray')\n",
    "            axs[i,j].axis('off')\n",
    "            axs[i,j].set_title(\"Digit: %d\" %labels[cnt])\n",
    "            cnt += 1"
   ]
  },
  {
   "cell_type": "code",
   "execution_count": 29,
   "metadata": {},
   "outputs": [],
   "source": [
    "#Training loop \n",
    "accuracies = []; losses = []\n",
    "def train(iterations,batch_size,sampleInterval):\n",
    "    (x_train,y_train),(_,_) = mnist.load_data()\n",
    "    x_train = (x_train/127.5) - 1.0\n",
    "    x_train  = np.expand_dims(x_train,axis = 3)\n",
    "    real = np.ones((batch_size,1))\n",
    "    fake = np.ones((batch_size,1))\n",
    "    for iteration in range(iterations):\n",
    "        idx = np.random.randint(0,x_train.shape[0],batch_size)\n",
    "        imgs,labels = x_train[idx],y_train[idx]\n",
    "        z = np.random.normal(0,1,(batch_size,zDim))\n",
    "        genImgs = generator.predict([z,labels])\n",
    "        dLossReal = discriminator.train_on_batch([imgs,labels],real)\n",
    "        dLossFake = discriminator.train_on_batch([genImgs,labels],fake)\n",
    "        dLoss = 0.5*np.add(dLossReal,dLossFake)\n",
    "        \n",
    "        z = np.random.normal(0,1,(batch_size,zDim))\n",
    "        labels = np.random.randint(0,nClasses,batch_size).reshape(-1,1)\n",
    "        gLoss = cgan.train_on_batch([z,labels],real)\n",
    "        \n",
    "        if(iteration+1)%sampleInterval == 0:\n",
    "            losses.append((dLoss[0],gLoss))\n",
    "            accuracies.append(dLoss[1]*100)\n",
    "            sample_images()"
   ]
  },
  {
   "cell_type": "code",
   "execution_count": null,
   "metadata": {},
   "outputs": [],
   "source": []
  },
  {
   "cell_type": "code",
   "execution_count": null,
   "metadata": {},
   "outputs": [],
   "source": []
  }
 ],
 "metadata": {
  "kernelspec": {
   "display_name": "Python 3",
   "language": "python",
   "name": "python3"
  },
  "language_info": {
   "codemirror_mode": {
    "name": "ipython",
    "version": 3
   },
   "file_extension": ".py",
   "mimetype": "text/x-python",
   "name": "python",
   "nbconvert_exporter": "python",
   "pygments_lexer": "ipython3",
   "version": "3.7.6"
  }
 },
 "nbformat": 4,
 "nbformat_minor": 4
}
